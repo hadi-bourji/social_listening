{
 "cells": [
  {
   "cell_type": "code",
   "execution_count": null,
   "id": "93e886fc",
   "metadata": {},
   "outputs": [],
   "source": [
    "import feedparser\n",
    "#below lines force Python to skip SSL certificate verification for HTTPS connections\n",
    "import ssl\n",
    "if hasattr(ssl, '_create_unverified_context'):\n",
    "    ssl._create_default_https_context = ssl._create_unverified_context"
   ]
  },
  {
   "cell_type": "code",
   "execution_count": null,
   "id": "a646bc64",
   "metadata": {},
   "outputs": [
    {
     "name": "stdout",
     "output_type": "stream",
     "text": [
      "title: Special Report: Five soldiers shot in Fort Stewart shooting\n",
      "summary: Five people were shot at Georgia's Fort Stewart-Hunter Army Airfield. The victims were taken to a nearby hospital and the suspected shooter is in custody.\n",
      "link: https://www.nbcnews.com/video/five-soldiers-shot-in-fort-stewart-shooting-244456005896\n",
      "published: Wed, 06 Aug 2025 17:05:06 GMT\n",
      "content: Five people were shot at Georgia's Fort Stewart-Hunter Army Airfield. The victims were taken to a nearby hospital and the suspected shooter is in custody.\n"
     ]
    }
   ],
   "source": [
    "'''\n",
    "function takes a website as input and looks at all useful key value pairs for all news stories on the given website\n",
    "useful keys are:\n",
    "'title', 'summary', 'content' as these are the most likely locations to find the key words related to accidents\n",
    "'link' to output the direct access to the article that is found to be related to an accident\n",
    "'published' to make sure the date of the article is current/output the date to the user\n",
    "function outputs a list of dictionaries where each dictionary contains the relevant information for one article\n",
    "'''\n",
    "def extract_articles_from_rss(website: str):\n",
    "\n",
    "    feed = feedparser.parse(website) #feed rss data in\n",
    "    articles = [] #list with information of all articles\n",
    "\n",
    "    for entry in feed.entries:\n",
    "        article_data = {} #dict for current article\n",
    "\n",
    "        for key in (\"title\", \"summary\", \"link\", \"published\"): #loop through the important keys and add these key/value pairs to our current article dict\n",
    "            if key in entry:\n",
    "                article_data[key] = entry[key]\n",
    "\n",
    "        if \"content\" in entry and isinstance(entry[\"content\"], list): #make sure content key/value info is available for this article and that its a list. also make sure content has \"value\" inside since thats where the content informaiton is in the content\n",
    "            content_item = entry[\"content\"][0]\n",
    "            if \"value\" in content_item:\n",
    "                article_data[\"content\"] = content_item[\"value\"]\n",
    "\n",
    "        articles.append(article_data)\n",
    "    \n",
    "    return articles\n",
    "    \n",
    "\n",
    "'''\n",
    "function takes \"articles\" (list of dictionaries where each dictionary contains the relevant information for one article)\n",
    "'''\n",
    "def pick(articles):    \n",
    "    for key,value in articles[0].items():\n",
    "        print(f\"{key}: {value}\")\n",
    "pick(extract_articles_from_rss('https://feeds.nbcnews.com/nbcnews/public/news'))\n",
    "\n",
    "\n",
    "\n",
    "\n",
    "\n",
    "\n",
    "\n",
    "\n",
    "\n",
    "#Use this code to see the all the articles\n",
    "# website = 'https://feeds.nbcnews.com/nbcnews/public/news'\n",
    "# def view_all(website: str):\n",
    "#     article_dictionary = feedparser.parse(website) #load in rss news feed site and put all information in dict\n",
    "#     for i in article_dictionary.entries:\n",
    "#         print(i)\n",
    "# view_all('https://feeds.nbcnews.com/nbcnews/public/news')"
   ]
  },
  {
   "cell_type": "code",
   "execution_count": null,
   "id": "b9d28566",
   "metadata": {},
   "outputs": [],
   "source": []
  }
 ],
 "metadata": {
  "kernelspec": {
   "display_name": "venv_social_listening",
   "language": "python",
   "name": "python3"
  },
  "language_info": {
   "codemirror_mode": {
    "name": "ipython",
    "version": 3
   },
   "file_extension": ".py",
   "mimetype": "text/x-python",
   "name": "python",
   "nbconvert_exporter": "python",
   "pygments_lexer": "ipython3",
   "version": "3.13.3"
  }
 },
 "nbformat": 4,
 "nbformat_minor": 5
}
