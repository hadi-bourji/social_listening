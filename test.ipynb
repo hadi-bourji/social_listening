{
 "cells": [
  {
   "cell_type": "code",
   "execution_count": null,
   "id": "93e886fc",
   "metadata": {},
   "outputs": [],
   "source": [
    "import feedparser\n",
    "#force Python to skip SSL certificate verification for HTTPS connections\n",
    "import ssl\n",
    "if hasattr(ssl, '_create_unverified_context'):\n",
    "    ssl._create_default_https_context = ssl._create_unverified_context"
   ]
  },
  {
   "cell_type": "code",
   "execution_count": null,
   "id": "a646bc64",
   "metadata": {},
   "outputs": [
    {
     "data": {
      "text/plain": [
       "{'Fort Stewart shooting suspect identified as a soldier; all victims expected to recover': {'link': 'https://www.nbcnews.com/news/us-news/live-blog/live-updates-fort-stewart-georgia-lockdown-active-shooter-situation-ca-rcna223415',\n",
       "  'published': 'Wed, 06 Aug 2025 16:11:58 GMT'},\n",
       " 'What we know about the Army base shooting at Fort Stewart in Georgia': {'link': 'https://www.nbcnews.com/news/us-news/georgia-shooting-fort-stewart-army-base-suspect-arrest-what-know-rcna223488',\n",
       "  'published': 'Wed, 06 Aug 2025 19:19:29 GMT'},\n",
       " 'Fort Stewart shooting raises questions about base security and response protocols': {'link': 'https://www.nbcnews.com/video/fort-stewart-shooting-raises-questions-about-base-security-and-response-protocols-244467781894',\n",
       "  'published': 'Wed, 06 Aug 2025 19:54:27 GMT'},\n",
       " 'Trump hikes India tariffs to 50% for buying Russian oil': {'link': 'https://www.nbcnews.com/business/business-news/trump-hikes-india-tariffs-50-percent-buying-russian-oil-rcna223374',\n",
       "  'published': 'Wed, 06 Aug 2025 14:27:35 GMT'},\n",
       " 'In Trump-supporting Ohio, a beloved Haitian teacher faces deportation': {'link': 'https://www.nbcnews.com/news/nbcblk/trump-supporting-ohio-community-beloved-haitian-immigrant-faces-deport-rcna221579',\n",
       "  'published': 'Wed, 06 Aug 2025 09:00:42 GMT'},\n",
       " 'Some immigrants seeking green cards may be placed in removal proceedings, USCIS says': {'link': 'https://www.nbcnews.com/news/us-news/green-card-applicants-immigrants-removal-proceedings-uscis-rcna223099',\n",
       "  'published': 'Wed, 06 Aug 2025 17:17:49 GMT'},\n",
       " 'Trump holds White House event on Apple investment in U.S. manufacturing': {'link': 'https://www.nbcnews.com/video/watch-live-trump-holds-white-house-event-on-apple-investment-in-u-s-manufacturing-244462149557',\n",
       "  'published': 'Wed, 06 Aug 2025 17:51:24 GMT'},\n",
       " \"Judge hears evidence about environmental concerns around 'Alligator Alcatraz'\": {'link': 'https://www.nbcnews.com/news/us-news/judge-hears-evidence-environmental-concerns-alligator-alcatraz-rcna223356',\n",
       "  'published': 'Wed, 06 Aug 2025 15:35:50 GMT'},\n",
       " \"Sen. Marsha Blackburn announces she's running for governor in Tennessee\": {'link': 'https://www.nbcnews.com/politics/politics-news/sen-marsha-blackburn-announces-running-governor-tennessee-rcna223338',\n",
       "  'published': 'Wed, 06 Aug 2025 13:30:10 GMT'}}"
      ]
     },
     "execution_count": 121,
     "metadata": {},
     "output_type": "execute_result"
    }
   ],
   "source": [
    "'''\n",
    "function takes a website as input and looks at all useful key value pairs for all news stories on the given website\n",
    "useful keys are:\n",
    "'title', 'summary', 'content' as these are the most likely locations to find the key words related to accidents\n",
    "'link' to output the direct access to the article that is found to be related to an accident\n",
    "'published' to make sure the date of the article is current/output the date to the user\n",
    "function outputs a list of dictionaries where each dictionary contains the relevant information for one article\n",
    "'''\n",
    "def extract_articles_from_rss(website: str):\n",
    "\n",
    "    feed = feedparser.parse(website) #feed rss data in\n",
    "    articles = [] #list with information of all articles\n",
    "\n",
    "    for entry in feed.entries:\n",
    "        article_data = {} #dict for current article\n",
    "\n",
    "        for key in (\"title\", \"summary\", \"link\", \"published\"): #loop through the important keys and add these key/value pairs to our current article dict\n",
    "            if key in entry:\n",
    "                article_data[key] = entry[key]\n",
    "\n",
    "        if \"content\" in entry and isinstance(entry[\"content\"], list): #make sure content key/value info is available for this article and that its a list. also make sure content has \"value\" inside since thats where the content informaiton is in the content\n",
    "            content_item = entry[\"content\"][0]\n",
    "            if \"value\" in content_item:\n",
    "                article_data[\"content\"] = content_item[\"value\"]\n",
    "\n",
    "        articles.append(article_data)\n",
    "    \n",
    "    return articles\n",
    "    \n",
    "\n",
    "'''\n",
    "function takes \"articles\" (list of dictionaries where each dictionary contains the relevant information for one article) and keywords (list of keywords we want to find articles about) as input\n",
    "outputs relevant_articles list of articles that contain 1+ keywords\n",
    "'''\n",
    "def pick_relevant_articles(articles: list, keywords: list):   \n",
    "    relevant_articles = {}\n",
    "\n",
    "    for article in articles:\n",
    "        for key, value in article.items(): #for each key value pair for each article, we confirm that the value is a string and then check if any of the keywords are in the value\n",
    "            if isinstance(value, str) and any(keyword.lower() in value.lower() for keyword in keywords):#if it is we take the article title, link, and publish time and put it in the dict relevant_articles which is the output\n",
    "                title = article.get('title')\n",
    "                link =article.get('link')\n",
    "                published = article.get('published')\n",
    "                relevant_articles[title] = {'link': link, 'published': published}\n",
    "                break\n",
    "    return relevant_articles\n",
    "pick_relevant_articles(extract_articles_from_rss('https://feeds.nbcnews.com/nbcnews/public/news'), [\"Trump\",\"fort\"])\n",
    "\n",
    "\n",
    "\n",
    "# # Use this code to see the all the articles\n",
    "# website = 'https://feeds.nbcnews.com/nbcnews/public/news'\n",
    "# def view_all(website: str):\n",
    "#     article_dictionary = feedparser.parse(website) #load in rss news feed site and put all information in dict\n",
    "#     for i in article_dictionary.entries:\n",
    "#         print(i)\n",
    "# view_all('https://feeds.nbcnews.com/nbcnews/public/news')"
   ]
  },
  {
   "cell_type": "code",
   "execution_count": null,
   "id": "b9d28566",
   "metadata": {},
   "outputs": [],
   "source": []
  }
 ],
 "metadata": {
  "kernelspec": {
   "display_name": "venv_social_listening",
   "language": "python",
   "name": "python3"
  },
  "language_info": {
   "codemirror_mode": {
    "name": "ipython",
    "version": 3
   },
   "file_extension": ".py",
   "mimetype": "text/x-python",
   "name": "python",
   "nbconvert_exporter": "python",
   "pygments_lexer": "ipython3",
   "version": "3.13.3"
  }
 },
 "nbformat": 4,
 "nbformat_minor": 5
}
