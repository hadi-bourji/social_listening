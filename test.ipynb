{
 "cells": [
  {
   "cell_type": "code",
   "execution_count": null,
   "id": "93e886fc",
   "metadata": {},
   "outputs": [],
   "source": [
    "import feedparser\n",
    "#force Python to skip SSL certificate verification for HTTPS connections\n",
    "import ssl\n",
    "if hasattr(ssl, '_create_unverified_context'):\n",
    "    ssl._create_default_https_context = ssl._create_unverified_context"
   ]
  },
  {
   "cell_type": "code",
   "execution_count": 148,
   "id": "a646bc64",
   "metadata": {},
   "outputs": [
    {
     "data": {
      "text/plain": [
       "{'Fort Stewart shooting suspect identified as active duty soldier Quornelius Radford': {'link': 'https://www.nbcnews.com/video/fort-stewart-shooting-suspect-identified-as-active-duty-soldier-quornelius-radford-244468293960',\n",
       "  'published': 'Wed, 06 Aug 2025 19:52:18 GMT'},\n",
       " 'What we know about the Army base shooting at Fort Stewart in Georgia': {'link': 'https://www.nbcnews.com/news/us-news/georgia-shooting-fort-stewart-army-base-suspect-arrest-what-know-rcna223488',\n",
       "  'published': 'Wed, 06 Aug 2025 19:19:29 GMT'},\n",
       " 'Fort Stewart shooting raises questions about base security and response protocols': {'link': 'https://www.nbcnews.com/video/fort-stewart-shooting-raises-questions-about-base-security-and-response-protocols-244467781894',\n",
       "  'published': 'Wed, 06 Aug 2025 19:54:27 GMT'},\n",
       " 'Family of victim and survivors of Indianapolis FedEx mass shooting file lawsuit against gun magazine manufacturer and distributors': {'link': 'https://www.cnn.com/2023/04/16/us/lawsuit-indianapolis-fedex-mass-shooting/index.html',\n",
       "  'published': 'Mon, 17 Apr 2023 18:54:28 GMT'}}"
      ]
     },
     "execution_count": 148,
     "metadata": {},
     "output_type": "execute_result"
    }
   ],
   "source": [
    "'''\n",
    "function takes a list of websites as input and looks at all useful key value pairs for all news articles on all websites provided\n",
    "useful keys are:\n",
    "'title', 'summary', 'content' as these are the most likely locations to find the key words related to accidents\n",
    "'link' to output the direct access to the article that is found to be related to an accident\n",
    "'published' to make sure the date of the article is current/output the date to the user\n",
    "function outputs \"articles\" (a list of dictionaries where each dictionary contains the relevant information for one article)\n",
    "'''\n",
    "def extract_articles(websites: list):\n",
    "    articles = [] #list with information of all articles\n",
    "    for website in websites:\n",
    "        feed = feedparser.parse(website) #feed rss data in\n",
    "        for entry in feed.entries:\n",
    "            article_data = {} #dict for current article\n",
    "\n",
    "            for key in (\"title\", \"summary\", \"link\", \"published\"): #loop through the important keys and add these key/value pairs to our current article dict\n",
    "                if key in entry:\n",
    "                    article_data[key] = entry[key]\n",
    "\n",
    "            if \"content\" in entry and isinstance(entry[\"content\"], list): #make sure content key/value info is available for this article and that its a list. also make sure content has \"value\" inside since thats where the content informaiton is in the content\n",
    "                content_item = entry[\"content\"][0]\n",
    "                if \"value\" in content_item:\n",
    "                    article_data[\"content\"] = content_item[\"value\"]\n",
    "\n",
    "            articles.append(article_data)\n",
    "    \n",
    "    return articles\n",
    "    \n",
    "\n",
    "'''\n",
    "function takes \"articles\" (list of dictionaries where each dictionary contains the relevant information for one article) and \"keywords\" (list of keywords we want to find articles about) as input\n",
    "outputs \"relevant_articles\" list of articles that contain at least one of the provided keywords\n",
    "'''\n",
    "def get_relevant_articles(articles: list, keywords: list):   \n",
    "    relevant_articles = {}\n",
    "\n",
    "    for article in articles:\n",
    "        for key, value in article.items(): #for each key value pair for each article, we confirm that the value is a string and then check if any of the keywords are in the value\n",
    "            if isinstance(value, str) and any(keyword.lower() in value.lower() for keyword in keywords):#if it is we take the article title, link, and publish time and put it in the dict relevant_articles which is the output\n",
    "                title = article.get('title')\n",
    "                link =article.get('link')\n",
    "                published = article.get('published')\n",
    "                relevant_articles[title] = {'link': link, 'published': published}\n",
    "                break\n",
    "            \n",
    "    return relevant_articles\n",
    "\n",
    "get_relevant_articles(extract_articles(['https://feeds.nbcnews.com/nbcnews/public/news',\"http://rss.cnn.com/rss/cnn_us.rss\"]), [\"fort\", \"fedex\"])\n",
    "\n",
    "\n",
    "## Use this code to see all of the articles\n",
    "# def view_all(website: str):\n",
    "#     article_dictionary = feedparser.parse(website) #load in rss news feed site and put all information in dict\n",
    "#     for i in article_dictionary.entries:\n",
    "#         print(\"\\n--------------\")\n",
    "#         for key, value in i.items():\n",
    "#             print(f\"{key}: {value}\")\n",
    "\n",
    "# view_all('http://rss.cnn.com/rss/cnn_us.rss')\n",
    "\n"
   ]
  },
  {
   "cell_type": "code",
   "execution_count": null,
   "id": "c52e95a2",
   "metadata": {},
   "outputs": [],
   "source": []
  }
 ],
 "metadata": {
  "kernelspec": {
   "display_name": "venv_social_listening",
   "language": "python",
   "name": "python3"
  },
  "language_info": {
   "codemirror_mode": {
    "name": "ipython",
    "version": 3
   },
   "file_extension": ".py",
   "mimetype": "text/x-python",
   "name": "python",
   "nbconvert_exporter": "python",
   "pygments_lexer": "ipython3",
   "version": "3.13.3"
  }
 },
 "nbformat": 4,
 "nbformat_minor": 5
}
